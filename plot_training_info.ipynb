{
 "cells": [
  {
   "cell_type": "markdown",
   "id": "20a5ebaf-2bd1-47f1-8aaf-7bdc61cf78d1",
   "metadata": {},
   "source": [
    "This file loads all *.csv* files from the *training_graphs* folder and plots them."
   ]
  },
  {
   "cell_type": "code",
   "execution_count": 2,
   "id": "c3e9e5c7-1b40-4f93-a7aa-fab118be3a17",
   "metadata": {},
   "outputs": [
    {
     "name": "stdout",
     "output_type": "stream",
     "text": [
      "Found the following files:\n",
      "['total_loss.csv', 'lr.csv', 'loss_cls.csv', 'loss_point_reg.csv']\n"
     ]
    }
   ],
   "source": [
    "import os\n",
    "\n",
    "plots_path = \"graphs_training\"\n",
    "filenames = os.listdir(plots_path)\n",
    "print(f\"Found the following files:\\n{filenames}\")"
   ]
  },
  {
   "cell_type": "code",
   "execution_count": 3,
   "id": "3fe9a90c-79de-487d-a661-aa70ba26caf4",
   "metadata": {},
   "outputs": [
    {
     "ename": "ModuleNotFoundError",
     "evalue": "No module named 'pandas'",
     "output_type": "error",
     "traceback": [
      "\u001b[0;31m---------------------------------------------------------------------------\u001b[0m",
      "\u001b[0;31mModuleNotFoundError\u001b[0m                       Traceback (most recent call last)",
      "Input \u001b[0;32mIn [3]\u001b[0m, in \u001b[0;36m<cell line: 1>\u001b[0;34m()\u001b[0m\n\u001b[0;32m----> 1\u001b[0m \u001b[38;5;28;01mimport\u001b[39;00m \u001b[38;5;21;01mpandas\u001b[39;00m \u001b[38;5;28;01mas\u001b[39;00m \u001b[38;5;21;01mpd\u001b[39;00m\n\u001b[1;32m      3\u001b[0m data_dict \u001b[38;5;241m=\u001b[39m {}\n\u001b[1;32m      4\u001b[0m \u001b[38;5;28;01mfor\u001b[39;00m filename \u001b[38;5;129;01min\u001b[39;00m filenames:\n",
      "\u001b[0;31mModuleNotFoundError\u001b[0m: No module named 'pandas'"
     ]
    }
   ],
   "source": [
    "import pandas as pd\n",
    "\n",
    "data_dict = {}\n",
    "for filename in filenames:\n",
    "    data_dict[filename.split('.')[0]] = pd.read_csv(os.path.join(plots_path, filename))\n",
    "for k, v in data_dict.items():\n",
    "    print(f\"Loaded: {k} with {len(v)} entries.\")"
   ]
  },
  {
   "cell_type": "code",
   "execution_count": null,
   "id": "8e040238-15ff-4577-b439-32f01c9030b9",
   "metadata": {},
   "outputs": [],
   "source": [
    "from matplotlib import pyplot as plt\n",
    "print(\"Plotting the graphs...\")\n",
    "\n",
    "for k, v in data_dict.items():\n",
    "    plt.figure()\n",
    "    print(f\"Plotting {k}...\")\n",
    "    steps = v[\"Step\"].tolist()\n",
    "    values = v[\"Value\"].tolist()\n",
    "    plt.plot(steps, values)\n",
    "    plt.grid(True)\n",
    "    if \"loss\" in k:\n",
    "        plt.yscale(\"log\")\n",
    "    plt.title(k)\n",
    "    plt.xlabel(\"Iterations\")\n",
    "    plt.ylabel(\"Value\")"
   ]
  },
  {
   "cell_type": "code",
   "execution_count": null,
   "id": "88b362d6-87d5-4885-95b9-88d7916e1c29",
   "metadata": {},
   "outputs": [],
   "source": []
  }
 ],
 "metadata": {
  "kernelspec": {
   "display_name": "Python detectron",
   "language": "python",
   "name": "detectron"
  },
  "language_info": {
   "codemirror_mode": {
    "name": "ipython",
    "version": 3
   },
   "file_extension": ".py",
   "mimetype": "text/x-python",
   "name": "python",
   "nbconvert_exporter": "python",
   "pygments_lexer": "ipython3",
   "version": "3.10.6"
  }
 },
 "nbformat": 4,
 "nbformat_minor": 5
}
