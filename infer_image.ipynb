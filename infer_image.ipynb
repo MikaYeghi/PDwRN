{
 "cells": [
  {
   "cell_type": "markdown",
   "id": "1c9703a9-72ce-4b47-a586-561fae41481b",
   "metadata": {},
   "source": [
    "This notebook runs inference on random images from the test set and plots the results.\n",
    "Ground-truth points are shown in blue. True positive predictions are shown in green, while false positive predictions are shown in red."
   ]
  },
  {
   "cell_type": "code",
   "execution_count": 1,
   "id": "d590a4a9-9b62-4391-b6ef-820a4404b07e",
   "metadata": {},
   "outputs": [
    {
     "name": "stdout",
     "output_type": "stream",
     "text": [
      "Configurations setup complete.\n"
     ]
    }
   ],
   "source": [
    "from detectron2.config import get_cfg\n",
    "from detectron2.engine import default_setup\n",
    "\n",
    "# Set up cfg\n",
    "cfg_path = \"configs/PDwRN.yaml\"\n",
    "custom_cfg = [\n",
    "    \"MODEL.WEIGHTS\", \"output/model_final.pth\", \n",
    "    \"MODEL.RETINANET.SCORE_THRESH_TEST\", \"0.8\"\n",
    "]\n",
    "cfg = get_cfg()\n",
    "cfg.merge_from_file(cfg_path)\n",
    "cfg.merge_from_list(custom_cfg)\n",
    "\n",
    "print(\"Configurations setup complete.\")\n",
    "# print(cfg)"
   ]
  },
  {
   "cell_type": "code",
   "execution_count": 2,
   "id": "f95e90a6-59c1-4af4-a7e6-731eb7bc3d90",
   "metadata": {},
   "outputs": [
    {
     "name": "stdout",
     "output_type": "stream",
     "text": [
      "Model loading complete.\n"
     ]
    }
   ],
   "source": [
    "from detectron2.modeling import build_model\n",
    "from models import PDwRN\n",
    "from detectron2.engine import DefaultPredictor\n",
    "\n",
    "# Build the model\n",
    "# model = build_model(cfg)\n",
    "predictor = DefaultPredictor(cfg)\n",
    "print(\"Model loading complete.\")\n",
    "# print(predictor.model)"
   ]
  },
  {
   "cell_type": "code",
   "execution_count": 3,
   "id": "a111430b-abe3-4324-a785-9cbcf5a72cdd",
   "metadata": {},
   "outputs": [
    {
     "name": "stdout",
     "output_type": "stream",
     "text": [
      "Registering the datasets.\n"
     ]
    },
    {
     "name": "stderr",
     "output_type": "stream",
     "text": [
      "100%|██████████████████████████████████| 238458/238458 [00:07<00:00, 30598.14it/s]"
     ]
    },
    {
     "name": "stdout",
     "output_type": "stream",
     "text": [
      "Dataset setup complete.\n"
     ]
    },
    {
     "name": "stderr",
     "output_type": "stream",
     "text": [
      "\n"
     ]
    }
   ],
   "source": [
    "from utils import setup_dataset\n",
    "from detectron2.data import DatasetCatalog, MetadataCatalog\n",
    "from detectron2.data import build_detection_test_loader, build_detection_train_loader\n",
    "\n",
    "# Load the dataset\n",
    "data_path = \"/home/myeghiaz/Project/PDwRN/data/\"\n",
    "debug_on = False\n",
    "if \"LINZ_train\" and \"LINZ_test\" in DatasetCatalog:\n",
    "    print(\"Datasets have already been registered. Continuing without registration.\")\n",
    "else:\n",
    "    print(\"Registering the datasets.\")\n",
    "    setup_dataset(data_path=data_path, debug_on=debug_on)\n",
    "\n",
    "# Initialize the dataloader\n",
    "# LINZ_dataset = DatasetCatalog.get(\"LINZ_test\")\n",
    "# LINZ_metadata = MetadataCatalog.get(\"LINZ_test\")\n",
    "LINZ_dataset = DatasetCatalog.get(\"LINZ_train\")\n",
    "LINZ_metadata = MetadataCatalog.get(\"LINZ_train\")\n",
    "\n",
    "print(\"Dataset setup complete.\")"
   ]
  },
  {
   "cell_type": "code",
   "execution_count": 4,
   "id": "e5b983a7-fbe4-423a-a8db-30e9ffaac9b1",
   "metadata": {},
   "outputs": [
    {
     "name": "stdout",
     "output_type": "stream",
     "text": [
      "Dataset cleaning complete. Length of the new dataset: 0.\n"
     ]
    }
   ],
   "source": [
    "LINZ_dataset = [LINZ_detection for LINZ_detection in LINZ_dataset if len(LINZ_detection['annotations']) > 0]\n",
    "LINZ_dataset = [LINZ_detection for LINZ_detection in LINZ_dataset if LINZ_detection['file_name'] == '/home/myeghiaz/Project/PDwRN/data/train/images/0003_0002_0003398.jpg']\n",
    "print(f\"Dataset cleaning complete. Length of the new dataset: {len(LINZ_dataset)}.\")"
   ]
  },
  {
   "cell_type": "code",
   "execution_count": 5,
   "id": "8213b85f-6737-4f96-a344-a56d96bba2d5",
   "metadata": {},
   "outputs": [
    {
     "ename": "ValueError",
     "evalue": "Sample larger than population or is negative",
     "output_type": "error",
     "traceback": [
      "\u001b[0;31m---------------------------------------------------------------------------\u001b[0m",
      "\u001b[0;31mValueError\u001b[0m                                Traceback (most recent call last)",
      "Input \u001b[0;32mIn [5]\u001b[0m, in \u001b[0;36m<cell line: 11>\u001b[0;34m()\u001b[0m\n\u001b[1;32m      8\u001b[0m \u001b[38;5;28;01mimport\u001b[39;00m \u001b[38;5;21;01mpdb\u001b[39;00m\n\u001b[1;32m     10\u001b[0m \u001b[38;5;66;03m# Run inference\u001b[39;00m\n\u001b[0;32m---> 11\u001b[0m \u001b[38;5;28;01mfor\u001b[39;00m d \u001b[38;5;129;01min\u001b[39;00m \u001b[43mrandom\u001b[49m\u001b[38;5;241;43m.\u001b[39;49m\u001b[43msample\u001b[49m\u001b[43m(\u001b[49m\u001b[43mLINZ_dataset\u001b[49m\u001b[43m,\u001b[49m\u001b[43m \u001b[49m\u001b[38;5;241;43m1\u001b[39;49m\u001b[43m)\u001b[49m:\n\u001b[1;32m     12\u001b[0m     image \u001b[38;5;241m=\u001b[39m cv2\u001b[38;5;241m.\u001b[39mimread(d[\u001b[38;5;124m'\u001b[39m\u001b[38;5;124mfile_name\u001b[39m\u001b[38;5;124m'\u001b[39m])\n\u001b[1;32m     13\u001b[0m     outputs \u001b[38;5;241m=\u001b[39m predictor(image)\n",
      "File \u001b[0;32m~/anaconda3/envs/detectron/lib/python3.10/random.py:482\u001b[0m, in \u001b[0;36mRandom.sample\u001b[0;34m(self, population, k, counts)\u001b[0m\n\u001b[1;32m    480\u001b[0m randbelow \u001b[38;5;241m=\u001b[39m \u001b[38;5;28mself\u001b[39m\u001b[38;5;241m.\u001b[39m_randbelow\n\u001b[1;32m    481\u001b[0m \u001b[38;5;28;01mif\u001b[39;00m \u001b[38;5;129;01mnot\u001b[39;00m \u001b[38;5;241m0\u001b[39m \u001b[38;5;241m<\u001b[39m\u001b[38;5;241m=\u001b[39m k \u001b[38;5;241m<\u001b[39m\u001b[38;5;241m=\u001b[39m n:\n\u001b[0;32m--> 482\u001b[0m     \u001b[38;5;28;01mraise\u001b[39;00m \u001b[38;5;167;01mValueError\u001b[39;00m(\u001b[38;5;124m\"\u001b[39m\u001b[38;5;124mSample larger than population or is negative\u001b[39m\u001b[38;5;124m\"\u001b[39m)\n\u001b[1;32m    483\u001b[0m result \u001b[38;5;241m=\u001b[39m [\u001b[38;5;28;01mNone\u001b[39;00m] \u001b[38;5;241m*\u001b[39m k\n\u001b[1;32m    484\u001b[0m setsize \u001b[38;5;241m=\u001b[39m \u001b[38;5;241m21\u001b[39m        \u001b[38;5;66;03m# size of a small set minus size of an empty list\u001b[39;00m\n",
      "\u001b[0;31mValueError\u001b[0m: Sample larger than population or is negative"
     ]
    }
   ],
   "source": [
    "import random\n",
    "import cv2\n",
    "import torch\n",
    "from matplotlib import pyplot as plt\n",
    "\n",
    "from detectron2.utils.visualizer import Visualizer\n",
    "\n",
    "import pdb\n",
    "\n",
    "# Run inference\n",
    "for d in random.sample(LINZ_dataset, 1):\n",
    "    image = cv2.imread(d['file_name'])\n",
    "    outputs = predictor(image)\n",
    "    v = Visualizer(image[:, :, ::-1],\n",
    "                   metadata=LINZ_metadata, \n",
    "                   scale=1.0, \n",
    "    )\n",
    "    out = None\n",
    "\n",
    "    gt_points = []\n",
    "    for vehicle_coordinate in d['annotations']:\n",
    "        vehicle = {\n",
    "            \"gt_point\": torch.tensor(vehicle_coordinate['gt_point']).long().cuda(),\n",
    "            \"category_id\": torch.tensor(0).long().cuda(),\n",
    "            \"status\": torch.tensor(0).long().cuda()\n",
    "        }\n",
    "        gt_points.append(vehicle) # appends a numpy array consisting of 2 values in (x, y) format\n",
    "    pred_points = {\n",
    "                \"points\": outputs['instances'].pred_boxes.get_centers().long().cuda(),\n",
    "                \"status\": torch.tensor([0 for _ in range(len(outputs['instances']))]).long().cuda()\n",
    "            }\n",
    "    # Evaluate the predictions based on the ground-truth points\n",
    "    for gt_idx in range(len(gt_points)):\n",
    "        gt_point = gt_points[gt_idx]\n",
    "        for pred_idx in range(len(pred_points['points'])):\n",
    "            pred_point = pred_points['points'][pred_idx]\n",
    "                    \n",
    "            # Compute the distance between the given pair of points\n",
    "            # NOTE: a prediction is accepted if it's within 6 pixels from the ground-truth point\n",
    "            gt_pred_dist = (gt_point['gt_point'] - pred_point).pow(2).sum().sqrt()\n",
    "            if gt_pred_dist < 6:\n",
    "                gt_points[gt_idx]['status'] = torch.tensor(1).long().cuda()\n",
    "                pred_points['status'][pred_idx] = torch.tensor(1).long().cuda()\n",
    "                break\n",
    "    \n",
    "    # Draw ground-truth points\n",
    "    for gt_point in gt_points:\n",
    "        out = v.draw_circle(gt_point['gt_point'], 'r', 3)\n",
    "    \n",
    "    # Draw predictions\n",
    "    k = 0\n",
    "    for pred_point in pred_points['points']:\n",
    "        if pred_points['status'][k] == 1:\n",
    "            point_colour = 'g'\n",
    "        else:\n",
    "            point_colour = 'b'\n",
    "        out = v.draw_circle(pred_point, point_colour, 2)\n",
    "        k += 1\n",
    "    \n",
    "    if out is not None:\n",
    "        plt.imshow(out.get_image()[:, :, ::-1])\n",
    "    else:\n",
    "        plt.imshow(image)\n",
    "    plt.show()\n",
    "    print(f\"There are {len(d['annotations'])} ground-truth points in this image.\")\n",
    "    print(f\"Number of predictions: {len(outputs['instances'])}.\")"
   ]
  },
  {
   "cell_type": "code",
   "execution_count": null,
   "id": "47e0043d-28d4-4cb2-abf0-449863dd9214",
   "metadata": {},
   "outputs": [],
   "source": []
  }
 ],
 "metadata": {
  "kernelspec": {
   "display_name": "Python detectron",
   "language": "python",
   "name": "detectron"
  },
  "language_info": {
   "codemirror_mode": {
    "name": "ipython",
    "version": 3
   },
   "file_extension": ".py",
   "mimetype": "text/x-python",
   "name": "python",
   "nbconvert_exporter": "python",
   "pygments_lexer": "ipython3",
   "version": "3.10.6"
  }
 },
 "nbformat": 4,
 "nbformat_minor": 5
}
